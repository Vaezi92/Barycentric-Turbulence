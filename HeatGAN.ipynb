{
  "cells": [
    {
      "cell_type": "markdown",
      "metadata": {
        "id": "view-in-github",
        "colab_type": "text"
      },
      "source": [
        "<a href=\"https://colab.research.google.com/github/Vaezi92/Barycentric-Turbulence/blob/main/HeatGAN.ipynb\" target=\"_parent\"><img src=\"https://colab.research.google.com/assets/colab-badge.svg\" alt=\"Open In Colab\"/></a>"
      ]
    },
    {
      "cell_type": "code",
      "source": [
        "from google.colab import drive\n",
        "drive.mount('/content/drive')"
      ],
      "metadata": {
        "colab": {
          "base_uri": "https://localhost:8080/"
        },
        "id": "jNNaOEgc85EB",
        "outputId": "66723f95-6f92-42fe-fcb8-b0891c8a9e04"
      },
      "execution_count": 1,
      "outputs": [
        {
          "output_type": "stream",
          "name": "stdout",
          "text": [
            "Mounted at /content/drive\n"
          ]
        }
      ]
    },
    {
      "cell_type": "code",
      "execution_count": 2,
      "metadata": {
        "id": "OeIQmLxY8VEM"
      },
      "outputs": [],
      "source": [
        "'''\n",
        "This is an example of read heat transfer phenomena dataset created by Mohammad Edalatifar and Mohammad Ghalambaz.\n",
        "Dataset Address:\n",
        "To use this dataset please vite to:\n",
        "{\n",
        "}\n",
        "'''\n",
        "import numpy as np\n",
        "\n",
        "Data = np.load('/content/drive/MyDrive/KIT-DeepLearning/Dataset/HeatTransferPhenomena_35_58.npz')\n",
        "xTrain = Data['xTrain']\n",
        "yTrain = Data['yTrain']\n",
        "xTest = Data['xTest']\n",
        "yTest = Data['yTest']\n",
        "xValidation = Data['xValidation']\n",
        "yValidation = Data['yValidation']\n",
        "\n",
        "del Data"
      ]
    },
    {
      "cell_type": "code",
      "execution_count": 3,
      "metadata": {
        "id": "c6T-CArK8VEU",
        "outputId": "cf2fdff1-6132-4e9c-a08c-78206cf7920f",
        "colab": {
          "base_uri": "https://localhost:8080/",
          "height": 269
        }
      },
      "outputs": [
        {
          "output_type": "display_data",
          "data": {
            "text/plain": [
              "<Figure size 432x288 with 3 Axes>"
            ],
            "image/png": "[encoded data removed]"
          },
          "metadata": {
            "needs_background": "light"
          }
        }
      ],
      "source": [
        "\n",
        "#%% Plot some images\n",
        "import matplotlib.pyplot as plt\n",
        "n=70\n",
        "plt.subplot(2,2,1)\n",
        "plt.imshow(xTrain[n,:,:,0])\n",
        "plt.subplot(2,2,2)\n",
        "plt.imshow(xTrain[n,:,:,1])\n",
        "plt.subplot(2,2,3)\n",
        "plt.imshow(yTrain[n,:,:,0])\n",
        "plt.show()"
      ]
    },
    {
      "cell_type": "code",
      "execution_count": 4,
      "metadata": {
        "id": "7LuLPLPL8VEW"
      },
      "outputs": [],
      "source": [
        "import tensorflow as tf\n",
        "from tensorflow.keras import layers\n",
        "from tensorflow.keras.models import Model"
      ]
    },
    {
      "cell_type": "code",
      "source": [
        "def conv_residual_block(x, num_filters, strides=2):\n",
        "    residual = x\n",
        "    \n",
        "    # First convolutional layer\n",
        "    x = layers.Conv2D(num_filters, kernel_size=(3, 3), strides=strides, padding='same')(x)\n",
        "    x = layers.BatchNormalization()(x)\n",
        "    x = layers.Activation('relu')(x)\n",
        "    \n",
        "    # Second convolutional layer\n",
        "    x = layers.Conv2D(num_filters, kernel_size=(3, 3), strides=1, padding='same')(x)\n",
        "    x = layers.BatchNormalization()(x)\n",
        "    \n",
        "    # Add the residual connection\n",
        "    if strides != 1 or x.shape[3] != residual.shape[3]:\n",
        "        residual = layers.Conv2D(num_filters, kernel_size=(1, 1), strides=strides, padding='valid')(residual)\n",
        "        residual = layers.BatchNormalization()(residual)\n",
        "    x = layers.add([x, residual])\n",
        "    x = layers.Activation('relu')(x)\n",
        "    \n",
        "    return x\n",
        "input = layers.Input(shape = (8,8,128))\n",
        "y = conv_residual_block(input , 512)\n",
        "print(y.shape)\n",
        "\n"
      ],
      "metadata": {
        "colab": {
          "base_uri": "https://localhost:8080/"
        },
        "id": "0PYmt6J2jGiN",
        "outputId": "4c241811-713c-4969-b0f9-c87e655d1a33"
      },
      "execution_count": 5,
      "outputs": [
        {
          "output_type": "stream",
          "name": "stdout",
          "text": [
            "(None, 4, 4, 512)\n"
          ]
        }
      ]
    },
    {
      "cell_type": "code",
      "source": [
        "def blockA(x):\n",
        "    inputA = x\n",
        "    # First laye\n",
        "    x = layers.BatchNormalization()(x)\n",
        "    x = layers.ReLU()(x)\n",
        "    x = layers.Conv2D(16, (3, 3), strides=1, activation=None, padding=\"same\")(x)\n",
        "\n",
        "    # Second layer\n",
        "    x = layers.BatchNormalization()(x)\n",
        "    x = layers.ReLU()(x)\n",
        "    x = layers.Conv2D(16, (3, 3), strides=1, activation=None, padding=\"same\")(x)\n",
        "    \n",
        "    #x = x + inputA\n",
        "    return x\n",
        "input = layers.Input(shape=(64,64,2))\n",
        "y = residual_blockA(input)\n",
        "\n",
        "print(y.shape)\n"
      ],
      "metadata": {
        "colab": {
          "base_uri": "https://localhost:8080/"
        },
        "id": "vOCUcyu6DWJG",
        "outputId": "45560fdb-ad3e-4ce0-aa9a-46b45a13291f"
      },
      "execution_count": null,
      "outputs": [
        {
          "output_type": "stream",
          "name": "stdout",
          "text": [
            "(None, 64, 64, 16)\n"
          ]
        }
      ]
    },
    {
      "cell_type": "code",
      "execution_count": null,
      "metadata": {
        "id": "ky2aQtIp8VEX",
        "colab": {
          "base_uri": "https://localhost:8080/"
        },
        "outputId": "5347d871-a461-4bb6-f62f-0a3a82302920"
      },
      "outputs": [
        {
          "output_type": "stream",
          "name": "stdout",
          "text": [
            "Model: \"model\"\n",
            "_________________________________________________________________\n",
            " Layer (type)                Output Shape              Param #   \n",
            "=================================================================\n",
            " input_1 (InputLayer)        [(None, 64, 64, 2)]       0         \n",
            "                                                                 \n",
            " conv2d (Conv2D)             (None, 64, 64, 32)        608       \n",
            "                                                                 \n",
            " max_pooling2d (MaxPooling2D  (None, 32, 32, 32)       0         \n",
            " )                                                               \n",
            "                                                                 \n",
            " conv2d_1 (Conv2D)           (None, 32, 32, 32)        9248      \n",
            "                                                                 \n",
            " max_pooling2d_1 (MaxPooling  (None, 16, 16, 32)       0         \n",
            " 2D)                                                             \n",
            "                                                                 \n",
            " conv2d_transpose (Conv2DTra  (None, 32, 32, 32)       9248      \n",
            " nspose)                                                         \n",
            "                                                                 \n",
            " conv2d_transpose_1 (Conv2DT  (None, 64, 64, 32)       9248      \n",
            " ranspose)                                                       \n",
            "                                                                 \n",
            " conv2d_2 (Conv2D)           (None, 64, 64, 1)         289       \n",
            "                                                                 \n",
            "=================================================================\n",
            "Total params: 28,641\n",
            "Trainable params: 28,641\n",
            "Non-trainable params: 0\n",
            "_________________________________________________________________\n"
          ]
        }
      ],
      "source": [
        "input = layers.Input(shape=(64, 64, 2))\n",
        "\n",
        "# Encoder\n",
        "y = layers.Conv2D(32, (3, 3), activation=\"relu\", padding=\"same\")(input)\n",
        "y = layers.MaxPooling2D((2, 2), padding=\"same\")(y)\n",
        "y = layers.Conv2D(32, (3, 3), activation=\"relu\", padding=\"same\")(y)\n",
        "y = layers.MaxPooling2D((2, 2), padding=\"same\")(y)\n",
        "\n",
        "# Decoder\n",
        "y = layers.Conv2DTranspose(32, (3, 3), strides=2, activation=\"relu\", padding=\"same\")(y)\n",
        "y = layers.Conv2DTranspose(32, (3, 3), strides=2, activation=\"relu\", padding=\"same\")(y)\n",
        "y = layers.Conv2D(1, (3, 3), activation=\"sigmoid\", padding=\"same\")(y)\n",
        "\n",
        "# Autoencoder\n",
        "autoencoder = Model(input, y)\n",
        "autoencoder.compile(optimizer=\"adam\", loss=\"binary_crossentropy\")\n",
        "autoencoder.summary()"
      ]
    },
    {
      "cell_type": "code",
      "execution_count": null,
      "metadata": {
        "id": "-OlusEb78VEZ",
        "outputId": "5153e9f2-81a7-46de-8c9d-bd8a6b9d7892"
      },
      "outputs": [
        {
          "name": "stdout",
          "output_type": "stream",
          "text": [
            "(1, 32, 32, 2)\n"
          ]
        }
      ],
      "source": [
        "# The inputs are 28x28 RGB images with `channels_last` and the batch\n",
        "# size is 4.\n",
        "input_shape = (1, 64, 64, 2)\n",
        "x = tf.random.normal(input_shape)\n",
        "y = tf.keras.layers.Conv2D(2, 3, 2 , padding='same', activation='relu', input_shape=input_shape[1:])(x)\n",
        "print(y.shape)\n"
      ]
    },
    {
      "cell_type": "code",
      "execution_count": null,
      "metadata": {
        "id": "fgnz_-HR8VEa",
        "outputId": "1b9a59a1-20fb-4f50-917d-9bf9ab25989e"
      },
      "outputs": [
        {
          "name": "stdout",
          "output_type": "stream",
          "text": [
            "Model: \"functional_25\"\n",
            "_________________________________________________________________\n",
            "Layer (type)                 Output Shape              Param #   \n",
            "=================================================================\n",
            "input_14 (InputLayer)        [(None, 64, 64, 2)]       0         \n",
            "_________________________________________________________________\n",
            "conv2d_68 (Conv2D)           (None, 64, 64, 16)        304       \n",
            "_________________________________________________________________\n",
            "re_lu (ReLU)                 (None, 64, 64, 16)        0         \n",
            "_________________________________________________________________\n",
            "conv2d_69 (Conv2D)           (None, 32, 32, 32)        4640      \n",
            "_________________________________________________________________\n",
            "conv2d_70 (Conv2D)           (None, 16, 16, 64)        18496     \n",
            "_________________________________________________________________\n",
            "conv2d_71 (Conv2D)           (None, 8, 8, 128)         73856     \n",
            "_________________________________________________________________\n",
            "conv2d_72 (Conv2D)           (None, 4, 4, 256)         295168    \n",
            "_________________________________________________________________\n",
            "conv2d_transpose_33 (Conv2DT (None, 8, 8, 256)         590080    \n",
            "_________________________________________________________________\n",
            "conv2d_transpose_34 (Conv2DT (None, 16, 16, 128)       295040    \n",
            "_________________________________________________________________\n",
            "conv2d_transpose_35 (Conv2DT (None, 32, 32, 64)        73792     \n",
            "_________________________________________________________________\n",
            "conv2d_transpose_36 (Conv2DT (None, 64, 64, 32)        18464     \n",
            "_________________________________________________________________\n",
            "conv2d_transpose_37 (Conv2DT (None, 64, 64, 16)        4624      \n",
            "_________________________________________________________________\n",
            "conv2d_73 (Conv2D)           (None, 64, 64, 1)         145       \n",
            "=================================================================\n",
            "Total params: 1,374,609\n",
            "Trainable params: 1,374,609\n",
            "Non-trainable params: 0\n",
            "_________________________________________________________________\n"
          ]
        }
      ],
      "source": [
        "def blockA(x):\n",
        "    x = layers.ReLU()(x)\n",
        "    return x\n",
        "    \n",
        "def blockB(x):\n",
        "    x = layers.Conv2D(32, (3, 3), strides=1, activation=\"relu\", padding=\"same\")(x)\n",
        "    x = layers.Conv2D(64, (3, 3), strides=1, activation=\"relu\", padding=\"same\")(x)\n",
        "    return x\n",
        "\n",
        "\n",
        "input = layers.Input(shape=(64, 64, 2))\n",
        "\n",
        "# Encoder\n",
        "x = layers.Conv2D(16, (3, 3), strides=1, activation=\"relu\", padding=\"same\")(input)\n",
        "# x = layers.MaxPooling2D((2, 2), padding=\"same\")(x)\n",
        "x = layers.Conv2D(32, (3, 3), strides=2, activation=\"relu\", padding=\"same\")(x)\n",
        "# x = layers.MaxPooling2D((2, 2), padding=\"same\")(x)\n",
        "x = layers.Conv2D(64, (3, 3), strides=2, activation=\"relu\", padding=\"same\")(x)\n",
        "# x = layers.MaxPooling2D((2, 2), padding=\"same\")(x)\n",
        "x = layers.Conv2D(128, (3, 3), strides=2, activation=\"relu\", padding=\"same\")(x)\n",
        "# x = layers.MaxPooling2D((2, 2), padding=\"same\")(x)\n",
        "x = layers.Conv2D(256, (3, 3), strides=2, activation=\"relu\", padding=\"same\")(x)\n",
        "# x = layers.MaxPooling2D((2, 2), padding=\"same\")(x)\n",
        "\n",
        "# Decoder\n",
        "x = layers.Conv2DTranspose(256, (3, 3), strides=2, activation=\"relu\", padding=\"same\")(x)\n",
        "x = layers.Conv2DTranspose(128, (3, 3), strides=2, activation=\"relu\", padding=\"same\")(x)\n",
        "x = layers.Conv2DTranspose(64, (3, 3), strides=2, activation=\"relu\", padding=\"same\")(x)\n",
        "x = layers.Conv2DTranspose(32, (3, 3), strides=2, activation=\"relu\", padding=\"same\")(x)\n",
        "x = layers.Conv2DTranspose(16, (3, 3), strides=1, activation=\"relu\", padding=\"same\")(x)\n",
        "x = layers.Conv2D(1, (3, 3), activation=\"sigmoid\", padding=\"same\")(x)\n",
        "\n",
        "# Autoencoder\n",
        "autoencoder = Model(input, x)\n",
        "autoencoder.compile(optimizer=\"adam\", loss=\"binary_crossentropy\")\n",
        "autoencoder.summary()"
      ]
    },
    {
      "cell_type": "code",
      "execution_count": null,
      "metadata": {
        "id": "LqgVGDJm8VEc",
        "outputId": "5ed01119-d4d0-4cfa-8576-f1927d524dc2"
      },
      "outputs": [
        {
          "name": "stdout",
          "output_type": "stream",
          "text": [
            "Model: \"functional_23\"\n",
            "_________________________________________________________________\n",
            "Layer (type)                 Output Shape              Param #   \n",
            "=================================================================\n",
            "input_13 (InputLayer)        [(None, 128, 640, 1)]     0         \n",
            "_________________________________________________________________\n",
            "conv2d_65 (Conv2D)           (None, 128, 640, 32)      320       \n",
            "_________________________________________________________________\n",
            "max_pooling2d_13 (MaxPooling (None, 64, 320, 32)       0         \n",
            "_________________________________________________________________\n",
            "conv2d_66 (Conv2D)           (None, 64, 320, 32)       9248      \n",
            "_________________________________________________________________\n",
            "max_pooling2d_14 (MaxPooling (None, 32, 160, 32)       0         \n",
            "_________________________________________________________________\n",
            "conv2d_transpose_31 (Conv2DT (None, 64, 320, 32)       9248      \n",
            "_________________________________________________________________\n",
            "conv2d_transpose_32 (Conv2DT (None, 128, 640, 32)      9248      \n",
            "_________________________________________________________________\n",
            "conv2d_67 (Conv2D)           (None, 128, 640, 6)       1734      \n",
            "=================================================================\n",
            "Total params: 29,798\n",
            "Trainable params: 29,798\n",
            "Non-trainable params: 0\n",
            "_________________________________________________________________\n"
          ]
        }
      ],
      "source": [
        "input = layers.Input(shape=(128, 640, 1))\n",
        "\n",
        "# Encoder\n",
        "x = layers.Conv2D(32, (3, 3), activation=\"relu\", padding=\"same\")(input)\n",
        "x = layers.MaxPooling2D((2, 2), padding=\"same\")(x)\n",
        "x = layers.Conv2D(32, (3, 3), activation=\"relu\", padding=\"same\")(x)\n",
        "x = layers.MaxPooling2D((2, 2), padding=\"same\")(x)\n",
        "\n",
        "# Decoder\n",
        "x = layers.Conv2DTranspose(32, (3, 3), strides=2, activation=\"relu\", padding=\"same\")(x)\n",
        "x = layers.Conv2DTranspose(32, (3, 3), strides=2, activation=\"relu\", padding=\"same\")(x)\n",
        "x = layers.Conv2D(6, (3, 3), activation=\"sigmoid\", padding=\"same\")(x)\n",
        "\n",
        "# Autoencoder\n",
        "autoencoder = Model(input, x)\n",
        "autoencoder.compile(optimizer=\"adam\", loss=\"binary_crossentropy\")\n",
        "autoencoder.summary()"
      ]
    }
  ],
  "metadata": {
    "kernelspec": {
      "display_name": "Python 3",
      "language": "python",
      "name": "python3"
    },
    "language_info": {
      "codemirror_mode": {
        "name": "ipython",
        "version": 3
      },
      "file_extension": ".py",
      "mimetype": "text/x-python",
      "name": "python",
      "nbconvert_exporter": "python",
      "pygments_lexer": "ipython3",
      "version": "3.8.5"
    },
    "orig_nbformat": 4,
    "colab": {
      "provenance": [],
      "include_colab_link": true
    },
    "accelerator": "GPU",
    "gpuClass": "standard"
  },
  "nbformat": 4,
  "nbformat_minor": 0
}